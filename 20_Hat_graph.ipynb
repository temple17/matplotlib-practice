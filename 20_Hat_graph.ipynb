{
  "nbformat": 4,
  "nbformat_minor": 0,
  "metadata": {
    "colab": {
      "name": "20_Hat graph.ipynb",
      "provenance": [],
      "collapsed_sections": [],
      "authorship_tag": "ABX9TyP59GvRqBxFFsRQB969QaJn",
      "include_colab_link": true
    },
    "kernelspec": {
      "name": "python3",
      "display_name": "Python 3"
    },
    "language_info": {
      "name": "python"
    }
  },
  "cells": [
    {
      "cell_type": "markdown",
      "metadata": {
        "id": "view-in-github",
        "colab_type": "text"
      },
      "source": [
        "<a href=\"https://colab.research.google.com/github/temple17/matplotlib-practice/blob/main/20_Hat_graph.ipynb\" target=\"_parent\"><img src=\"https://colab.research.google.com/assets/colab-badge.svg\" alt=\"Open In Colab\"/></a>"
      ]
    },
    {
      "cell_type": "code",
      "execution_count": 1,
      "metadata": {
        "id": "DSWKpme2SK8n"
      },
      "outputs": [],
      "source": [
        "# !pip install matplotlib --upgrade"
      ]
    },
    {
      "cell_type": "code",
      "source": [
        "import numpy as np\n",
        "import matplotlib.pyplot as plt\n",
        "\n",
        "def hat_graph(ax, xlabels, values, group_labels):\n",
        "\n",
        "    def label_bars(heights, rects):\n",
        "        for height, rect in zip(heights, rects):\n",
        "            ax.annotate(f'{height}',\n",
        "                        xy=(rect.get_x() + rect.get_width() / 2, height),\n",
        "                        xytext=(0,4),\n",
        "                        textcoords='offset points',\n",
        "                        ha='center', va='bottom')\n",
        "    values = np.asarray(values)\n",
        "    x =np.arange(values.shape[1])\n",
        "    ax.set_xticks(x, labels=xlabels)\n",
        "    spacing=0.3\n",
        "    width = (1 - spacing) / values.shape[0]\n",
        "    heights0 = values[0]\n",
        "    for i, (heights, group_label) in enumerate(zip(values, group_labels)):\n",
        "        style = {'fill': False} if i == 0 else {'edgecolor': 'black'}\n",
        "        rects = ax.bar(x - spacing/2 + i * width, heights - heights0,\n",
        "                       width, bottom=heights0, label= group_label, **style)\n",
        "        label_bars(heights, rects)\n",
        "\n",
        "xlabels = ['I', 'II', 'III','IV','V']\n",
        "playerA = np.array([5, 15, 22, 20, 25])\n",
        "playerB = np.array([25, 32, 34, 30, 27])\n",
        "\n",
        "fig, ax = plt.subplots()\n",
        "hat_graph(ax, xlabels, [playerA, playerB], ['Player A', 'Player B'])\n",
        "\n",
        "ax.set_xlabel('Games')\n",
        "ax.set_ylabel('Score')\n",
        "ax.set_ylim(0, 60)\n",
        "ax.set_title('Scores by number of game and players')\n",
        "\n",
        "ax.legend()\n",
        "\n",
        "fig.tight_layout()"
      ],
      "metadata": {
        "colab": {
          "base_uri": "https://localhost:8080/",
          "height": 297
        },
        "id": "3CqPP_OmSTEj",
        "outputId": "15d2b71f-c8d4-44a0-ee5e-02db4d102535"
      },
      "execution_count": 2,
      "outputs": [
        {
          "output_type": "display_data",
          "data": {
            "text/plain": [
              "<Figure size 432x288 with 1 Axes>"
            ],
            "image/png": "[encoded data removed]"
          },
          "metadata": {
            "needs_background": "light"
          }
        }
      ]
    }
  ]
}